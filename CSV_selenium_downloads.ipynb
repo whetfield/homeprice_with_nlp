{
 "cells": [
  {
   "cell_type": "markdown",
   "metadata": {},
   "source": [
    "## Automated Download of Redfin CSV files through Selenium"
   ]
  },
  {
   "cell_type": "markdown",
   "metadata": {},
   "source": [
    "Use selenium to go through a list of Redfin urls.  The URLs are zoomed out maps of home sale transactions.  Redfin offers data downloads of CSVs of the transactions which appear on the maps, but the number of transaction which can appear in each CSV is 350.  So on a \"zoomed out\" map of a region, there are thousands of transactions in the mapped area, but downloading will only yield a small portion of them.  This notebook goes through a list of \"zoomed out\" map URLs and progressively tries all the different options to zoom in on the map and downloading CSVs of 350 transactions, thus capturing a large portion of the transactions "
   ]
  },
  {
   "cell_type": "code",
   "execution_count": 4,
   "metadata": {},
   "outputs": [],
   "source": [
    "from selenium import webdriver\n",
    "import selenium\n",
    "import time\n",
    "import random"
   ]
  },
  {
   "cell_type": "code",
   "execution_count": 5,
   "metadata": {},
   "outputs": [],
   "source": [
    "browser = webdriver.Chrome()"
   ]
  },
  {
   "cell_type": "code",
   "execution_count": 6,
   "metadata": {},
   "outputs": [
    {
     "data": {
      "text/plain": [
       "('https://www.redfin.com/county/321/CA/Los-Angeles-County/filter/include=sold-3yr,viewport=34.16819:34.1088:-117.98498:-118.0951,no-outline',)"
      ]
     },
     "execution_count": 6,
     "metadata": {},
     "output_type": "execute_result"
    }
   ],
   "source": [
    "#List of zoomed out maps which start from and have Selenium click all the available clusters which appear\n",
    "'https://www.redfin.com/city/16904/CA/San-Diego/filter/property-type=house,include=sold-3yr,viewport=32.80982:32.71512:-116.9976:-117.09991,no-outline'\n",
    "'https://www.redfin.com/city/16904/CA/San-Diego/filter/property-type=house,include=sold-3yr,viewport=32.8179:32.72321:-117.1006:-117.23844,no-outline'\n",
    "'https://www.redfin.com/city/16904/CA/San-Diego/filter/property-type=house,include=sold-3yr,viewport=32.71166:32.61686:-116.96189:-117.09974,no-outline',\n",
    "'https://www.redfin.com/city/16163/WA/Seattle/filter/property-type=house,include=sold-1yr,viewport=47.68836:47.53653:-122.01167:-122.28736,no-outline',\n",
    "'https://www.redfin.com/city/16163/WA/Seattle/filter/property-type=house,include=sold-1yr,viewport=47.67796:47.5261:-122.20359:-122.47928,no-outline',\n",
    "'https://www.redfin.com/city/16163/WA/Seattle/filter/property-type=house,include=sold-1yr,viewport=47.70592:47.55414:-122.51052:-122.78621,no-outline',\n",
    "'https://www.redfin.com/city/16163/WA/Seattle/filter/property-type=house,include=sold-3yr,viewport=47.70592:47.55414:-122.51052:-122.78621,no-outline',\n",
    "'https://www.redfin.com/city/16163/WA/Seattle/filter/property-type=house,include=sold-3yr,viewport=47.66097:47.58507:-122.2677:-122.40555,no-outline',\n",
    "'https://www.redfin.com/city/16163/WA/Seattle/filter/property-type=house,include=sold-3yr,viewport=47.7311:47.6553:-122.2677:-122.40555,no-outline',\n",
    "'https://www.redfin.com/city/16163/WA/Seattle/filter/property-type=house,include=sold-3yr,viewport=47.60243:47.52645:-122.25414:-122.39199,no-outline',\n",
    "'https://www.redfin.com/city/16163/WA/Seattle/filter/property-type=house,include=sold-3yr,viewport=47.68824:47.61238:-122.08059:-122.21844,no-outline',\n",
    "'https://www.redfin.com/city/14240/AZ/Phoenix/filter/property-type=house,include=sold-1yr,status=active,viewport=33.69729:33.50971:-111.9869:-112.26258,no-outline',\n",
    "'https://www.redfin.com/city/14240/AZ/Phoenix/filter/property-type=house,include=sold-1yr,status=active,viewport=33.8685:33.68129:-112.06517:-112.34086,no-outline',\n",
    "'https://www.redfin.com/city/14240/AZ/Phoenix/filter/property-type=house,include=sold-1yr,status=active,viewport=33.68558:33.49797:-112.28164:-112.55733,no-outline',\n",
    "'https://www.redfin.com/city/14240/AZ/Phoenix/filter/property-type=house,include=sold-1yr,status=active,viewport=33.643:33.4553:-111.75361:-112.0293,no-outline',\n",
    "'https://www.redfin.com/city/14240/AZ/Phoenix/filter/property-type=house,include=sold-1yr,status=active,viewport=33.44728:33.25915:-111.6767:-111.95239,no-outline',\n",
    "'https://www.redfin.com/city/14240/AZ/Phoenix/filter/property-type=house,include=sold-1yr,status=active,viewport=33.45444:33.26633:-111.9905:-112.26619,no-outline',\n",
    "'https://www.redfin.com/city/14240/AZ/Phoenix/filter/property-type=house,include=sold-3yr,status=active,viewport=33.40817:33.31411:-112.05942:-112.19727,no-outline',\n",
    "'https://www.redfin.com/city/14240/AZ/Phoenix/filter/property-type=house,include=sold-3yr,status=active,viewport=33.47821:33.38423:-112.19624:-112.33408,no-outline',\n",
    "'https://www.redfin.com/city/14240/AZ/Phoenix/filter/property-type=house,include=sold-3yr,status=active,viewport=33.55335:33.45945:-112.16328:-112.30112,no-outline',\n",
    "'https://www.redfin.com/city/14240/AZ/Phoenix/filter/property-type=house,include=sold-3yr,status=active,viewport=33.65658:33.56279:-112.08122:-112.21907,no-outline',\n",
    "'https://www.redfin.com/city/14240/AZ/Phoenix/filter/property-type=house,include=sold-3yr,status=active,viewport=33.72528:33.63157:-112.22216:-112.36,no-outline',\n",
    "'https://www.redfin.com/city/14240/AZ/Phoenix/filter/property-type=house,include=sold-3yr,status=active,viewport=33.37965:33.28556:-111.67627:-111.81412,no-outline',\n",
    "'https://www.redfin.com/city/14240/AZ/Phoenix/filter/property-type=house,include=sold-3yr,status=active,viewport=33.46962:33.37563:-111.6967:-111.83455,no-outline',\n",
    "'https://www.redfin.com/city/14240/AZ/Phoenix/filter/property-type=house,include=sold-3yr,status=active,viewport=33.48738:33.39341:-111.87781:-112.01565,no-outline',\n",
    "'https://www.redfin.com/city/14240/AZ/Phoenix/filter/property-type=house,include=sold-3yr,status=active,viewport=33.44427:33.35026:-112.02269:-112.16053,no-outline',\n",
    "'https://www.redfin.com/city/14240/AZ/Phoenix/filter/property-type=house,include=sold-3yr,status=active,viewport=33.52645:33.43253:-112.03179:-112.16963,no-outline',\n",
    "'https://www.redfin.com/city/14240/AZ/Phoenix/filter/property-type=house,include=sold-3yr,status=active,viewport=33.57052:33.47664:-112.16774:-112.30559,no-outline'\n",
    "'https://www.redfin.com/county/321/CA/Los-Angeles-County/filter/include=sold-1yr,viewport=34.11094:33.99203:-117.49415:-117.7144,no-outline',\n",
    "'https://www.redfin.com/county/321/CA/Los-Angeles-County/filter/include=sold-1yr,viewport=34.12714:34.00826:-117.76349:-117.98373,no-outline',\n",
    "'https://www.redfin.com/county/321/CA/Los-Angeles-County/filter/include=sold-1yr,viewport=34.16876:34.04994:-118.01618:-118.23642,no-outline',\n",
    "'https://www.redfin.com/county/321/CA/Los-Angeles-County/filter/include=sold-1yr,viewport=34.25706:34.13836:-118.13514:-118.35538,no-outline',\n",
    "'https://www.redfin.com/county/321/CA/Los-Angeles-County/filter/include=sold-3yr,viewport=34.22775:34.16841:-118.1902:-118.30032,no-outline',\n",
    "'https://www.redfin.com/county/321/CA/Los-Angeles-County/filter/include=sold-3yr,viewport=34.19212:34.13275:-118.0969:-118.20702,no-outline',\n",
    "'https://www.redfin.com/county/321/CA/Los-Angeles-County/filter/include=sold-3yr,viewport=34.16819:34.1088:-117.98498:-118.0951,no-outline',\n",
    "    "
   ]
  },
  {
   "cell_type": "code",
   "execution_count": 7,
   "metadata": {},
   "outputs": [],
   "source": [
    "#Two sample URLs to show how it works\n",
    "main_city_urls = ['https://www.redfin.com/county/321/CA/Los-Angeles-County/filter/include=sold-3yr,viewport=34.14312:34.08371:-117.90121:-118.01133,no-outline',\n",
    "                  'https://www.redfin.com/county/321/CA/Los-Angeles-County/filter/include=sold-3yr,viewport=34.11989:34.06046:-118.01931:-118.12943,no-outline']"
   ]
  },
  {
   "cell_type": "code",
   "execution_count": 8,
   "metadata": {},
   "outputs": [],
   "source": [
    "#We don't know how many clusters are on each broad page, so just try up to 31\n",
    "base_string = '[data-rf-test-id=\"cluster-num-homes-'\n",
    "inner_cluster_list = [base_string + str(cluster_number) + '\"]'\\\n",
    "                      for cluster_number in range (1,31)]"
   ]
  },
  {
   "cell_type": "code",
   "execution_count": 9,
   "metadata": {},
   "outputs": [],
   "source": [
    "list_of_inner_clusters = inner_cluster_list"
   ]
  },
  {
   "cell_type": "code",
   "execution_count": 10,
   "metadata": {},
   "outputs": [],
   "source": [
    "#initialize outside of the loop for the continue case so won't have to keep going out of the loop\n",
    "downloaded_list = []\n",
    "\n",
    "for url in main_city_urls:\n",
    "    browser.close()\n",
    "    browser = webdriver.Chrome()\n",
    "    browser.get(url)\n",
    "    time.sleep(random.choice([10]))\n",
    "    \n",
    "    \n",
    "    for cluster in list_of_inner_clusters:\n",
    "\n",
    "        #See if cluster button 1-31 is on the site\n",
    "        try:\n",
    "            cluster_button = browser.find_element_by_css_selector(cluster)\n",
    "        except:\n",
    "            continue\n",
    "\n",
    "        \n",
    "        #Click the button to go to the new URL\n",
    "        try:\n",
    "            cluster_button.click()\n",
    "            #time.sleep(random.choice([.005,.001]))\n",
    "            #cluster_button.click()\n",
    "        except:\n",
    "            continue\n",
    "\n",
    "        \n",
    "        time.sleep(random.choice([5,6]))\n",
    "        \n",
    "        #Find the csv download element\n",
    "        try:\n",
    "            download = browser.find_element_by_xpath('//*[@id=\"download-and-save\"]')\n",
    "        except:\n",
    "            continue\n",
    "\n",
    "        #download the csv\n",
    "        try:\n",
    "            download.click()   \n",
    "        except:\n",
    "            continue\n",
    "        \n",
    "        downloaded_list.append((url,cluster))\n",
    "        time.sleep(random.choice([0.25,1,0.5]))\n",
    "        browser.get(url)\n",
    "        time.sleep(random.choice([5,6]))"
   ]
  },
  {
   "cell_type": "code",
   "execution_count": 11,
   "metadata": {},
   "outputs": [
    {
     "data": {
      "text/plain": [
       "[('https://www.redfin.com/county/321/CA/Los-Angeles-County/filter/include=sold-3yr,viewport=34.11989:34.06046:-118.01931:-118.12943,no-outline',\n",
       "  '[data-rf-test-id=\"cluster-num-homes-25\"]'),\n",
       " ('https://www.redfin.com/county/321/CA/Los-Angeles-County/filter/include=sold-3yr,viewport=34.11989:34.06046:-118.01931:-118.12943,no-outline',\n",
       "  '[data-rf-test-id=\"cluster-num-homes-26\"]'),\n",
       " ('https://www.redfin.com/county/321/CA/Los-Angeles-County/filter/include=sold-3yr,viewport=34.11989:34.06046:-118.01931:-118.12943,no-outline',\n",
       "  '[data-rf-test-id=\"cluster-num-homes-27\"]')]"
      ]
     },
     "execution_count": 11,
     "metadata": {},
     "output_type": "execute_result"
    }
   ],
   "source": [
    "#See the last few sites which were hit\n",
    "downloaded_list[-4:-1]"
   ]
  }
 ],
 "metadata": {
  "kernelspec": {
   "display_name": "Python 3",
   "language": "python",
   "name": "python3"
  },
  "language_info": {
   "codemirror_mode": {
    "name": "ipython",
    "version": 3
   },
   "file_extension": ".py",
   "mimetype": "text/x-python",
   "name": "python",
   "nbconvert_exporter": "python",
   "pygments_lexer": "ipython3",
   "version": "3.6.4"
  }
 },
 "nbformat": 4,
 "nbformat_minor": 2
}
